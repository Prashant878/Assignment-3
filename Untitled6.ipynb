{
 "cells": [
  {
   "cell_type": "markdown",
   "id": "76c5ed16",
   "metadata": {},
   "source": [
    "# Question-1 Create a Python class called \"Student\" that has the following attributes: names, age, and grade. Define an initialization method to initialize these attributes when an object of the class is created. Create an instance of the class and set the attributes. Finally, print the attributes of the student object."
   ]
  },
  {
   "cell_type": "code",
   "execution_count": 3,
   "id": "f19b846d",
   "metadata": {},
   "outputs": [
    {
     "name": "stdout",
     "output_type": "stream",
     "text": [
      "Name: Prashant\n",
      "Age: 25\n",
      "Grade: B\n"
     ]
    }
   ],
   "source": [
    "# python class called \"Student\"\n",
    "class Student:\n",
    "    \"\"\"We are defining a method/function\"\"\"\n",
    "    def __init__(self, name, age, grade):\n",
    "        self.name = name\n",
    "        self.age = age\n",
    "        self.grade = grade\n",
    "\n",
    "# Now once we have defined it, the instances are passed automatically, we can just pass those in the instances below\n",
    "student_1 = Student(\"Prashant\", 25, \"B\")\n",
    "\n",
    "# Printing the attributes of the student object\n",
    "print(\"Name:\", student_1.name)\n",
    "print(\"Age:\", student_1.age)\n",
    "print(\"Grade:\", student_1.grade)"
   ]
  },
  {
   "cell_type": "markdown",
   "id": "9d2bb5b1",
   "metadata": {},
   "source": [
    "# Question 2: Methods in a Class Extend the \"Student\" class from the previous question. Add a method called \"is passing\" that returns True if the student's grade is greater than or equal to 50 and False otherwise. Create an instance of the class and use this method to check if the student is passing. Display the result"
   ]
  },
  {
   "cell_type": "code",
   "execution_count": 6,
   "id": "1cbc9a1c",
   "metadata": {},
   "outputs": [
    {
     "name": "stdout",
     "output_type": "stream",
     "text": [
      "Prashant is passing.\n"
     ]
    }
   ],
   "source": [
    "class Student:\n",
    "    def __init__(self, name, age, grade):\n",
    "        self.name = name\n",
    "        self.age = age\n",
    "        self.grade = grade\n",
    "\n",
    "    def is_passing(self):\n",
    "        return self.grade >= 50\n",
    " # Now once we have defined it, the instances are passed automatically, we can just pass those in the instances below\n",
    "\n",
    "# Create an instance of the Student class and set the attributes\n",
    "student_1 = Student(\"Prashant\", 25, 80)\n",
    "\n",
    "# Using the \"is_passing\" method to check if the student is passing or not passsing\n",
    "passing_status = student_1.is_passing()\n",
    "\n",
    "# Display the result\n",
    "if passing_status:\n",
    "    print(f\"{student_1.name} is passing.\")\n",
    "else:\n",
    "    print(f\"{student_1.name} is not passing.\")"
   ]
  },
  {
   "cell_type": "markdown",
   "id": "9bec1b4c",
   "metadata": {},
   "source": [
    "# Qyestion 3 Inheritance and Subclasses Create a new class called \"HighSchoolStudent\" that inherits from the \"Student\" class. Add an additional attribute called school_ nane to the \"HighSchoolStudent\" class. Create an instance of the \"HighSchoolStudent\" class and set both the attributes, including the inherited attributes from the \"Student\" class. Print all the attributes of the high school student. Part B: Functions in Python Dishan fu C. ft Accessibility: Good to go D)"
   ]
  },
  {
   "cell_type": "code",
   "execution_count": 10,
   "id": "811094e5",
   "metadata": {},
   "outputs": [
    {
     "name": "stdout",
     "output_type": "stream",
     "text": [
      "Name: Prashant\n",
      "Age: 25\n",
      "Grade: 80\n",
      "SchoolName: KVS Senior secondary school\n"
     ]
    }
   ],
   "source": [
    "class Student:\n",
    "    def __init__(self, name, age, grade):\n",
    "        self.name = name\n",
    "        self.age = age\n",
    "        self.grade = grade\n",
    "\n",
    "    def is_passing(self):\n",
    "        return self.grade >= 50\n",
    "\n",
    "    # Note, every method inside the class automatically takes the instance as the first arguement\n",
    "    # define a class variable\n",
    "    \n",
    "class HighSchoolStudent(Student):\n",
    "    def __init__(self, name, age, grade, schoolName):\n",
    "        super().__init__(name, age, grade)\n",
    "        self.schoolName = schoolName\n",
    "\n",
    "# Creating instance and setting attributes\n",
    "highSchoolStudent = HighSchoolStudent(\"Prashant\", 25, 80, \"KVS Senior secondary school\")\n",
    "\n",
    "print(\"Name:\", highSchoolStudent.name)\n",
    "print(\"Age:\", highSchoolStudent.age)\n",
    "print(\"Grade:\", highSchoolStudent.grade)\n",
    "print(\"SchoolName:\", highSchoolStudent.schoolName)"
   ]
  },
  {
   "cell_type": "markdown",
   "id": "ba1fe4c5",
   "metadata": {},
   "source": [
    "# Question 4 Write a Python function called calculate rectangle area\" that takes two parameters, Length and width, and returns the area of a rectangle. Call the function with different sets of values and display the results."
   ]
  },
  {
   "cell_type": "code",
   "execution_count": 42,
   "id": "a7df5945",
   "metadata": {},
   "outputs": [
    {
     "name": "stdout",
     "output_type": "stream",
     "text": [
      "Rectangle with length 9 and width 6 has an area of 54 square foot.\n",
      "Rectangle with length 7 and width 4 has an area of 28 square foot.\n"
     ]
    }
   ],
   "source": [
    "def calculate_rectangle_area(length, width):\n",
    "    area = length * width\n",
    "    return \"Rectangle with length \" + str(length) + \" and width \" + str(width) + \" has an area of \" + str(area) + \" square foot.\"\n",
    "\n",
    "# Call the function with different sets of values and display the results\n",
    "length_1= 9\n",
    "width_1 = 6\n",
    "area_1 = calculate_rectangle_area(length_1, width_1)\n",
    "print(area_1)\n",
    "\n",
    "length_2=10\n",
    "width_2 = 7\n",
    "area_2 = calculate_rectangle_area(length2, width2)\n",
    "print(area_2)\n",
    "\n"
   ]
  },
  {
   "cell_type": "markdown",
   "id": "82283b6d",
   "metadata": {},
   "source": [
    "# Question5 Create a Python function called \"greet\" that takes a name as a parameter and a greeting message as an optional parameter with a default value of \"Hello\". The function should return a formatted greeting message. Test the function by calling it with and without the optional parameter and display the results"
   ]
  },
  {
   "cell_type": "code",
   "execution_count": 41,
   "id": "23b4f01a",
   "metadata": {},
   "outputs": [
    {
     "name": "stdout",
     "output_type": "stream",
     "text": [
      "Hello, Prashant\n",
      "Hi, Rahul\n"
     ]
    }
   ],
   "source": [
    "def greet(name, greeting=\"Hello\"):\n",
    "    return greeting + \", \" + name \n",
    "\n",
    "greet_without_message = greet(\"Prashant\")\n",
    "greet_with_message = greet(\"Rahul\", \"Hi\")\n",
    "\n",
    "print(greet_without_message)  # Uses the default greeting\n",
    "print(greet_with_message)  "
   ]
  },
  {
   "cell_type": "markdown",
   "id": "0da0c101",
   "metadata": {},
   "source": [
    "# Question 6 Function with Variable Number of Arguments Write a Python function called \"calculate average\" that takes a variable number of arguments and calculates the average of those numbers. Use this function to find the average of 5, 10, 15, and 20, and display the result."
   ]
  },
  {
   "cell_type": "code",
   "execution_count": 46,
   "id": "31cb999e",
   "metadata": {},
   "outputs": [
    {
     "name": "stdout",
     "output_type": "stream",
     "text": [
      "The average is: 12.5\n"
     ]
    }
   ],
   "source": [
    "def calculate_average():\n",
    "    if len(numbers) == 0:\n",
    "        return 0\n",
    "    total = sum(numbers)\n",
    "    average = total / len(numbers)\n",
    "    return average\n",
    "\n",
    "# Calculate the average of 5, 10, 15, and 20\n",
    "numbers = [5, 10, 15, 20]\n",
    "average_result = calculate_average()\n",
    "\n",
    "print(\"The average is:\", average_result)"
   ]
  },
  {
   "cell_type": "code",
   "execution_count": null,
   "id": "365ff264",
   "metadata": {},
   "outputs": [],
   "source": []
  }
 ],
 "metadata": {
  "kernelspec": {
   "display_name": "Python 3 (ipykernel)",
   "language": "python",
   "name": "python3"
  },
  "language_info": {
   "codemirror_mode": {
    "name": "ipython",
    "version": 3
   },
   "file_extension": ".py",
   "mimetype": "text/x-python",
   "name": "python",
   "nbconvert_exporter": "python",
   "pygments_lexer": "ipython3",
   "version": "3.11.4"
  }
 },
 "nbformat": 4,
 "nbformat_minor": 5
}
